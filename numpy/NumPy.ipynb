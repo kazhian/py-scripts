{
 "cells": [
  {
   "cell_type": "markdown",
   "id": "11774b14-4e5b-43c9-b465-5b6499092ce5",
   "metadata": {},
   "source": [
    "# NumPy\n",
    "---\n",
    "NumPy (Numerical Python) is a library that adds support for large, multi-dimensional arrays and matrices, along with a wide range of high-performance mathematical functions to operate on them. This makes it an essential tool for Python developers working with numerical data."
   ]
  },
  {
   "cell_type": "markdown",
   "id": "7101cfe0-3ebe-4774-b4f4-81214d67bcc7",
   "metadata": {},
   "source": [
    "**Key Benefits of NumPy:**\n",
    "\n",
    "* Speed: NumPy arrays are much faster than Python lists for numerical computations.\n",
    "* Efficient Memory Use: NumPy arrays store data in a compact, contiguous block of memory, reducing memory usage and improving cache performance.\n",
    "* Vectorized Operations: NumPy allows you to perform operations on entire arrays at once, eliminating the need for loops and making your code more concise and readable."
   ]
  },
  {
   "cell_type": "markdown",
   "id": "2651b8bb-c409-4b62-bb8d-4f948affec5e",
   "metadata": {},
   "source": [
    "##### First, import the NumPy library"
   ]
  },
  {
   "cell_type": "code",
   "execution_count": 2,
   "id": "dbf35e0e-cb16-4c0b-8465-5107a636f000",
   "metadata": {},
   "outputs": [],
   "source": [
    "import numpy as np"
   ]
  },
  {
   "cell_type": "markdown",
   "id": "7e4ea1f7-0d53-481d-a07b-7a575b7f557b",
   "metadata": {},
   "source": [
    "**Creating Arrays**"
   ]
  },
  {
   "cell_type": "code",
   "execution_count": 9,
   "id": "72b13c50-1c15-469a-a736-17e45957bccf",
   "metadata": {},
   "outputs": [
    {
     "data": {
      "text/plain": [
       "array([1, 2, 3])"
      ]
     },
     "execution_count": 9,
     "metadata": {},
     "output_type": "execute_result"
    }
   ],
   "source": [
    "np.array([1,2,3])"
   ]
  },
  {
   "cell_type": "code",
   "execution_count": 8,
   "id": "6f2c02d1-b720-4ea2-bd5e-672831fe9849",
   "metadata": {},
   "outputs": [
    {
     "data": {
      "text/plain": [
       "array([[1, 2, 3],\n",
       "       [4, 5, 6]])"
      ]
     },
     "execution_count": 8,
     "metadata": {},
     "output_type": "execute_result"
    }
   ],
   "source": [
    "np.array([(1,2,3),(4,5,6)], dtype = int)"
   ]
  },
  {
   "cell_type": "markdown",
   "id": "0e9c5cbe-3491-465b-a440-ca348708762f",
   "metadata": {},
   "source": [
    "**Creating Arrays with placeholders**"
   ]
  },
  {
   "cell_type": "code",
   "execution_count": 13,
   "id": "7f711262-f09f-4191-be33-3fc194417d4d",
   "metadata": {},
   "outputs": [
    {
     "name": "stdout",
     "output_type": "stream",
     "text": [
      "[[0. 0. 0.]\n",
      " [0. 0. 0.]\n",
      " [0. 0. 0.]]\n",
      "[[1. 1. 1.]\n",
      " [1. 1. 1.]\n",
      " [1. 1. 1.]]\n",
      "[[7 7 7]\n",
      " [7 7 7]\n",
      " [7 7 7]]\n"
     ]
    }
   ],
   "source": [
    "ones = np.zeros((3,3))\n",
    "zeros = np.ones((3,3))\n",
    "sevens = np.full((3,3), 7)\n",
    "\n",
    "print(ones)\n",
    "print(zeros)\n",
    "print(sevens)"
   ]
  },
  {
   "cell_type": "markdown",
   "id": "c4f2fea7-3109-4db3-82a5-fdb0bed8bc54",
   "metadata": {},
   "source": [
    "**Inpecting the Arrays**"
   ]
  },
  {
   "cell_type": "code",
   "execution_count": 20,
   "id": "2bd7bf21-6d92-4857-8030-47f3c7212b67",
   "metadata": {},
   "outputs": [
    {
     "name": "stdout",
     "output_type": "stream",
     "text": [
      "[[1 0 0 0 0]\n",
      " [0 1 0 0 0]\n",
      " [0 0 1 0 0]\n",
      " [0 0 0 1 0]\n",
      " [0 0 0 0 1]]\n",
      "(5, 5)\n",
      "5\n",
      "2\n"
     ]
    }
   ],
   "source": [
    "a = np.eye(5, dtype=int)\n",
    "\n",
    "print(a)\n",
    "print(a.shape)\n",
    "print(len(a))\n",
    "print(a.ndim)"
   ]
  },
  {
   "cell_type": "code",
   "execution_count": null,
   "id": "ca4f85c4-707b-44fb-82d2-e0077fb8247d",
   "metadata": {},
   "outputs": [],
   "source": []
  }
 ],
 "metadata": {
  "kernelspec": {
   "display_name": "Python 3 (ipykernel)",
   "language": "python",
   "name": "python3"
  },
  "language_info": {
   "codemirror_mode": {
    "name": "ipython",
    "version": 3
   },
   "file_extension": ".py",
   "mimetype": "text/x-python",
   "name": "python",
   "nbconvert_exporter": "python",
   "pygments_lexer": "ipython3",
   "version": "3.12.7"
  }
 },
 "nbformat": 4,
 "nbformat_minor": 5
}
